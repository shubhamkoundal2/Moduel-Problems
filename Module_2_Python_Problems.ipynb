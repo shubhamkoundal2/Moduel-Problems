{
  "nbformat": 4,
  "nbformat_minor": 0,
  "metadata": {
    "colab": {
      "provenance": []
    },
    "kernelspec": {
      "name": "python3",
      "display_name": "Python 3"
    },
    "language_info": {
      "name": "python"
    }
  },
  "cells": [
    {
      "cell_type": "code",
      "source": [
        "import numpy as np \n",
        "import pandas as pd\n",
        "import math"
      ],
      "metadata": {
        "id": "ORs0Vk0rKEeY"
      },
      "execution_count": 5,
      "outputs": []
    },
    {
      "cell_type": "code",
      "execution_count": 11,
      "metadata": {
        "colab": {
          "base_uri": "https://localhost:8080/"
        },
        "id": "AFrgLRl5J6NM",
        "outputId": "bb8d3119-1a98-4d9a-ccb1-186eedb4eb1f"
      },
      "outputs": [
        {
          "output_type": "stream",
          "name": "stdout",
          "text": [
            "Enter a number: 4\n",
            "4 is even.\n"
          ]
        }
      ],
      "source": [
        "#1.Python program to check whether the given number is even or not:\n",
        "\n",
        "\n",
        "def check_even(number):\n",
        "    if number % 2 == 0:\n",
        "        print(number, \"is even.\")\n",
        "    else:\n",
        "        print(number, \"is odd.\")\n",
        "\n",
        "number = int(input(\"Enter a number: \"))\n",
        "check_even(number)"
      ]
    },
    {
      "cell_type": "code",
      "source": [
        "# 2. Python program to convert the temperature in degree centigrade to Fahrenheit.\n",
        "def celsius_to_fahrenheit(celsius):\n",
        "    fahrenheit = (celsius * 9/5) + 32\n",
        "    return fahrenheit\n",
        "\n",
        "celsius = float(input(\"Enter temperature in Celsius: \"))\n",
        "fahrenheit = celsius_to_fahrenheit(celsius)\n",
        "print(\"Temperature in Fahrenheit:\", fahrenheit)\n"
      ],
      "metadata": {
        "colab": {
          "base_uri": "https://localhost:8080/"
        },
        "id": "3RQ3CeQVJ_xX",
        "outputId": "63baf11c-fab7-4032-ab30-26af1a95a8e0"
      },
      "execution_count": 12,
      "outputs": [
        {
          "output_type": "stream",
          "name": "stdout",
          "text": [
            "Enter temperature in Celsius: 55\n",
            "Temperature in Fahrenheit: 131.0\n"
          ]
        }
      ]
    },
    {
      "cell_type": "code",
      "source": [
        "#3.Python program to find the area of a triangle whose sides are given:\n",
        "def calculate_triangle_area(a, b, c):\n",
        "    # Calculate semiperimeter\n",
        "    s = (a + b + c) / 2\n",
        "    # Calculate the area using Heron's formula\n",
        "    area = (s * (s - a) * (s - b) * (s - c)) ** 0.5\n",
        "    return area\n",
        "\n",
        "a = float(input(\"Enter length of side a: \"))\n",
        "b = float(input(\"Enter length of side b: \"))\n",
        "c = float(input(\"Enter length of side c: \"))\n",
        "area = calculate_triangle_area(a, b, c)\n",
        "print(\"Area of the triangle:\", area)\n"
      ],
      "metadata": {
        "colab": {
          "base_uri": "https://localhost:8080/"
        },
        "id": "ANEEsVOVKDTu",
        "outputId": "c759e420-ff36-4e2c-e5de-bc42de9d7e94"
      },
      "execution_count": 13,
      "outputs": [
        {
          "output_type": "stream",
          "name": "stdout",
          "text": [
            "Enter length of side a: 4\n",
            "Enter length of side b: 5\n",
            "Enter length of side c: 6\n",
            "Area of the triangle: 9.921567416492215\n"
          ]
        }
      ]
    },
    {
      "cell_type": "code",
      "source": [
        "#4. Python program to find out the average of a set of integers\n",
        "def calculate_average(numbers):\n",
        "    if len(numbers) == 0:\n",
        "        return 0\n",
        "    total = sum(numbers)\n",
        "    average = total / len(numbers)\n",
        "    return average\n",
        "\n",
        "numbers = []\n",
        "n = int(input(\"Enter the count of numbers: \"))\n",
        "for i in range(n):\n",
        "    number = int(input(\"Enter a number: \"))\n",
        "    numbers.append(number)\n",
        "average = calculate_average(numbers)\n",
        "print(\"Average:\", average)\n"
      ],
      "metadata": {
        "colab": {
          "base_uri": "https://localhost:8080/"
        },
        "id": "q4XyTDMsLN4R",
        "outputId": "87b340d1-422f-4c74-a005-6d890e41f8f1"
      },
      "execution_count": 14,
      "outputs": [
        {
          "output_type": "stream",
          "name": "stdout",
          "text": [
            "Enter the count of numbers: 5\n",
            "Enter a number: 8\n",
            "Enter a number: 6\n",
            "Enter a number: 5\n",
            "Enter a number: 8\n",
            "Enter a number: 6\n",
            "Average: 6.6\n"
          ]
        }
      ]
    },
    {
      "cell_type": "code",
      "source": [
        "#5.Python program to find the product of a set of real numbers:\n",
        "def calculate_product(numbers):\n",
        "    if len(numbers) == 0:\n",
        "        return 1\n",
        "    product = 1\n",
        "    for number in numbers:\n",
        "        product *= number\n",
        "    return product\n",
        "\n",
        "numbers = []\n",
        "n = int(input(\"Enter the count of numbers: \"))\n",
        "for i in range(n):\n",
        "    number = float(input(\"Enter a number: \"))\n",
        "    numbers.append(number)\n",
        "product = calculate_product(numbers)\n",
        "print(\"Product:\", product)\n"
      ],
      "metadata": {
        "colab": {
          "base_uri": "https://localhost:8080/"
        },
        "id": "5LkI13ugLXR8",
        "outputId": "caa88172-b7f5-4594-f47d-a21de5e11346"
      },
      "execution_count": 15,
      "outputs": [
        {
          "output_type": "stream",
          "name": "stdout",
          "text": [
            "Enter the count of numbers: 4\n",
            "Enter a number: 88\n",
            "Enter a number: 99\n",
            "Enter a number: 77\n",
            "Enter a number: 96\n",
            "Product: 64399104.0\n"
          ]
        }
      ]
    },
    {
      "cell_type": "code",
      "source": [
        "#6. Python program to find the circumference and area of a circle with a given radius\n",
        "\n",
        "def calculate_circumference(radius):\n",
        "    circumference = 2 * math.pi * radius\n",
        "    return circumference\n",
        "\n",
        "def calculate_area(radius):\n",
        "    area = math.pi * radius ** 2\n",
        "    return area\n",
        "\n",
        "radius = float(input(\"Enter the radius of the circle: \"))\n",
        "\n",
        "circumference = calculate_circumference(radius)\n",
        "print(\"Circumference:\", circumference)\n",
        "\n",
        "area = calculate_area(radius)\n",
        "print(\"Area:\", area)\n"
      ],
      "metadata": {
        "colab": {
          "base_uri": "https://localhost:8080/"
        },
        "id": "LYMjeT98LjNM",
        "outputId": "1c56c130-c782-406c-c4d3-f2be163d89aa"
      },
      "execution_count": 16,
      "outputs": [
        {
          "output_type": "stream",
          "name": "stdout",
          "text": [
            "Enter the radius of the circle: 88\n",
            "Circumference: 552.9203070318035\n",
            "Area: 24328.49350939936\n"
          ]
        }
      ]
    },
    {
      "cell_type": "code",
      "source": [
        "#7.Python program to check whether the given integer is a multiple of 5:\n",
        "number = int(input(\"Enter an integer: \"))\n",
        "\n",
        "if number % 5 == 0:\n",
        "    print(number, \"is a multiple of 5.\")\n",
        "else:\n",
        "    print(number, \"is not a multiple of 5.\")\n"
      ],
      "metadata": {
        "colab": {
          "base_uri": "https://localhost:8080/"
        },
        "id": "oieZL8yiL24z",
        "outputId": "4ac4c528-84a9-4820-f7f5-05e461259fb3"
      },
      "execution_count": 17,
      "outputs": [
        {
          "output_type": "stream",
          "name": "stdout",
          "text": [
            "Enter an integer: 85\n",
            "85 is a multiple of 5.\n"
          ]
        }
      ]
    },
    {
      "cell_type": "code",
      "source": [
        "#8.Python program to check whether the given integer is a multiple of both 5 and 7:\n",
        "number = int(input(\"Enter an integer: \"))\n",
        "\n",
        "if number % 5 == 0 and number % 7 == 0:\n",
        "    print(number, \"is a multiple of both 5 and 7.\")\n",
        "else:\n",
        "    print(number, \"is not a multiple of both 5 and 7.\")\n"
      ],
      "metadata": {
        "colab": {
          "base_uri": "https://localhost:8080/"
        },
        "id": "QUn2WDKkMI0q",
        "outputId": "becdb68f-54c9-4d4b-96f7-689051bf4dbd"
      },
      "execution_count": 18,
      "outputs": [
        {
          "output_type": "stream",
          "name": "stdout",
          "text": [
            "Enter an integer: 98\n",
            "98 is not a multiple of both 5 and 7.\n"
          ]
        }
      ]
    },
    {
      "cell_type": "code",
      "source": [
        "#9.Python program to find the average of 10 numbers using a while loop:\n",
        "count = 1\n",
        "total = 0\n",
        "\n",
        "while count <= 10:\n",
        "    number = float(input(\"Enter number {}: \".format(count)))\n",
        "    total += number\n",
        "    count += 1\n",
        "\n",
        "average = total / 10\n",
        "print(\"Average:\", average)\n"
      ],
      "metadata": {
        "colab": {
          "base_uri": "https://localhost:8080/"
        },
        "id": "zJ5gwgbTMP56",
        "outputId": "fb1e4dc7-c239-4d2c-88e6-332e59a72166"
      },
      "execution_count": 20,
      "outputs": [
        {
          "output_type": "stream",
          "name": "stdout",
          "text": [
            "Enter number 1: 1\n",
            "Enter number 2: 2\n",
            "Enter number 3: 3\n",
            "Enter number 4: 4\n",
            "Enter number 5: 5\n",
            "Enter number 6: 6\n",
            "Enter number 7: 7\n",
            "Enter number 8: 8\n",
            "Enter number 9: 9\n",
            "Enter number 10: 10\n",
            "Average: 5.5\n"
          ]
        }
      ]
    },
    {
      "cell_type": "code",
      "source": [
        "#10.Python program to display the given integer in reverse manner:\n",
        "number = int(input(\"Enter an integer: \"))\n",
        "reversed_number = 0\n",
        "\n",
        "while number > 0:\n",
        "    digit = number % 10\n",
        "    reversed_number = (reversed_number * 10) + digit\n",
        "    number = number // 10\n",
        "\n",
        "print(\"Reversed number:\", reversed_number)\n"
      ],
      "metadata": {
        "colab": {
          "base_uri": "https://localhost:8080/"
        },
        "id": "JYaE1aHYMc4J",
        "outputId": "99dbe789-0113-4c66-a314-4c8f01b252ed"
      },
      "execution_count": 22,
      "outputs": [
        {
          "output_type": "stream",
          "name": "stdout",
          "text": [
            "Enter an integer: 8\n",
            "Reversed number: 8\n"
          ]
        }
      ]
    },
    {
      "cell_type": "code",
      "source": [
        "#11.Python program to find the geometric mean of n numbers:\n",
        "import math\n",
        "\n",
        "def calculate_geometric_mean(numbers):\n",
        "    product = 1\n",
        "    for num in numbers:\n",
        "        product *= num\n",
        "    geometric_mean = math.pow(product, 1/len(numbers))\n",
        "    return geometric_mean\n",
        "\n",
        "n = int(input(\"Enter the count of numbers: \"))\n",
        "numbers = []\n",
        "\n",
        "for i in range(n):\n",
        "    number = float(input(\"Enter number {}: \".format(i+1)))\n",
        "    numbers.append(number)\n",
        "\n",
        "geometric_mean = calculate_geometric_mean(numbers)\n",
        "print(\"Geometric Mean:\", geometric_mean)\n"
      ],
      "metadata": {
        "colab": {
          "base_uri": "https://localhost:8080/"
        },
        "id": "npAwnBqRM2Gh",
        "outputId": "2cec119f-e718-4a23-ee7d-c15ff9cdfee2"
      },
      "execution_count": 23,
      "outputs": [
        {
          "output_type": "stream",
          "name": "stdout",
          "text": [
            "Enter the count of numbers: 3\n",
            "Enter number 1: 88\n",
            "Enter number 2: 99\n",
            "Enter number 3: 77\n",
            "Geometric Mean: 87.5392585737206\n"
          ]
        }
      ]
    },
    {
      "cell_type": "code",
      "source": [
        "#12.Python program to find the sum of the digits of an integer using a while loop:\n",
        "number = int(input(\"Enter an integer: \"))\n",
        "sum_of_digits = 0\n",
        "\n",
        "while number > 0:\n",
        "    digit = number % 10\n",
        "    sum_of_digits += digit\n",
        "    number = number // 10\n",
        "\n",
        "print(\"Sum of digits:\", sum_of_digits)\n"
      ],
      "metadata": {
        "colab": {
          "base_uri": "https://localhost:8080/"
        },
        "id": "lx5kHf1UNMuo",
        "outputId": "5ea0026f-8298-4648-c111-6dcae357f021"
      },
      "execution_count": 25,
      "outputs": [
        {
          "output_type": "stream",
          "name": "stdout",
          "text": [
            "Enter an integer: 88\n",
            "Sum of digits: 16\n"
          ]
        }
      ]
    },
    {
      "cell_type": "code",
      "source": [
        "#13.Python program to display all the multiples of 3 within the range 10 to 50:\n",
        "start = 10\n",
        "end = 50\n",
        "\n",
        "print(\"Multiples of 3 within the range 10 to 50:\")\n",
        "for num in range(start, end+1):\n",
        "    if num % 3 == 0:\n",
        "        print(num)\n"
      ],
      "metadata": {
        "colab": {
          "base_uri": "https://localhost:8080/"
        },
        "id": "jwa_qpJiNVUR",
        "outputId": "2f223b3f-fc40-46b9-de59-d714eca8e0d0"
      },
      "execution_count": 26,
      "outputs": [
        {
          "output_type": "stream",
          "name": "stdout",
          "text": [
            "Multiples of 3 within the range 10 to 50:\n",
            "12\n",
            "15\n",
            "18\n",
            "21\n",
            "24\n",
            "27\n",
            "30\n",
            "33\n",
            "36\n",
            "39\n",
            "42\n",
            "45\n",
            "48\n"
          ]
        }
      ]
    },
    {
      "cell_type": "code",
      "source": [
        "#14.Python program to display all integers within the range 100-200 whose sum of digits is an even number:\n",
        "start = 100\n",
        "end = 200\n",
        "\n",
        "print(\"Integers within the range 100-200 whose sum of digits is an even number:\")\n",
        "for num in range(start, end+1):\n",
        "    digit_sum = sum(int(digit) for digit in str(num))\n",
        "    if digit_sum % 2 == 0:\n",
        "        print(num)\n"
      ],
      "metadata": {
        "colab": {
          "base_uri": "https://localhost:8080/"
        },
        "id": "Qdu3_-MKNiYv",
        "outputId": "660cfb50-b84f-4212-d326-e65e3bc218fa"
      },
      "execution_count": 27,
      "outputs": [
        {
          "output_type": "stream",
          "name": "stdout",
          "text": [
            "Integers within the range 100-200 whose sum of digits is an even number:\n",
            "101\n",
            "103\n",
            "105\n",
            "107\n",
            "109\n",
            "110\n",
            "112\n",
            "114\n",
            "116\n",
            "118\n",
            "121\n",
            "123\n",
            "125\n",
            "127\n",
            "129\n",
            "130\n",
            "132\n",
            "134\n",
            "136\n",
            "138\n",
            "141\n",
            "143\n",
            "145\n",
            "147\n",
            "149\n",
            "150\n",
            "152\n",
            "154\n",
            "156\n",
            "158\n",
            "161\n",
            "163\n",
            "165\n",
            "167\n",
            "169\n",
            "170\n",
            "172\n",
            "174\n",
            "176\n",
            "178\n",
            "181\n",
            "183\n",
            "185\n",
            "187\n",
            "189\n",
            "190\n",
            "192\n",
            "194\n",
            "196\n",
            "198\n",
            "200\n"
          ]
        }
      ]
    },
    {
      "cell_type": "code",
      "source": [
        "#15.Python program to check whether the given integer is a prime number or not:\n",
        "def is_prime(number):\n",
        "    if number <= 1:\n",
        "        return False\n",
        "    for i in range(2, int(number ** 0.5) + 1):\n",
        "        if number % i == 0:\n",
        "            return False\n",
        "    return True\n",
        "\n",
        "number = int(input(\"Enter an integer: \"))\n",
        "\n",
        "if is_prime(number):\n",
        "    print(number, \"is a prime number.\")\n",
        "else:\n",
        "    print(number, \"is not a prime number.\")\n"
      ],
      "metadata": {
        "colab": {
          "base_uri": "https://localhost:8080/"
        },
        "id": "kOdI25ThNpQ3",
        "outputId": "bf4eef3e-303f-473c-b76d-c6af62f39e22"
      },
      "execution_count": 28,
      "outputs": [
        {
          "output_type": "stream",
          "name": "stdout",
          "text": [
            "Enter an integer: 852\n",
            "852 is not a prime number.\n"
          ]
        }
      ]
    },
    {
      "cell_type": "code",
      "source": [
        "#16.Python program to generate the prime numbers from 1 to N:\n",
        "def generate_primes(n):\n",
        "    primes = []\n",
        "    for num in range(2, n+1):\n",
        "        if all(num % i != 0 for i in range(2, int(num ** 0.5) + 1)):\n",
        "            primes.append(num)\n",
        "    return primes\n",
        "\n",
        "n = int(input(\"Enter a number: \"))\n",
        "\n",
        "prime_numbers = generate_primes(n)\n",
        "print(\"Prime numbers from 1 to\", n, \"are:\", prime_numbers)\n"
      ],
      "metadata": {
        "colab": {
          "base_uri": "https://localhost:8080/"
        },
        "id": "OTylukSeOVN2",
        "outputId": "863fe423-294e-4692-c827-cc62c19b1a92"
      },
      "execution_count": 29,
      "outputs": [
        {
          "output_type": "stream",
          "name": "stdout",
          "text": [
            "Enter a number: 897\n",
            "Prime numbers from 1 to 897 are: [2, 3, 5, 7, 11, 13, 17, 19, 23, 29, 31, 37, 41, 43, 47, 53, 59, 61, 67, 71, 73, 79, 83, 89, 97, 101, 103, 107, 109, 113, 127, 131, 137, 139, 149, 151, 157, 163, 167, 173, 179, 181, 191, 193, 197, 199, 211, 223, 227, 229, 233, 239, 241, 251, 257, 263, 269, 271, 277, 281, 283, 293, 307, 311, 313, 317, 331, 337, 347, 349, 353, 359, 367, 373, 379, 383, 389, 397, 401, 409, 419, 421, 431, 433, 439, 443, 449, 457, 461, 463, 467, 479, 487, 491, 499, 503, 509, 521, 523, 541, 547, 557, 563, 569, 571, 577, 587, 593, 599, 601, 607, 613, 617, 619, 631, 641, 643, 647, 653, 659, 661, 673, 677, 683, 691, 701, 709, 719, 727, 733, 739, 743, 751, 757, 761, 769, 773, 787, 797, 809, 811, 821, 823, 827, 829, 839, 853, 857, 859, 863, 877, 881, 883, 887]\n"
          ]
        }
      ]
    },
    {
      "cell_type": "code",
      "source": [
        "#17.Python program to find the roots of a quadratic equation:\n",
        "import cmath\n",
        "# the cmath module to work with complex numbers.\n",
        "def find_roots(a, b, c):\n",
        "    discriminant = b**2 - 4*a*c\n",
        "    root1 = (-b + cmath.sqrt(discriminant)) / (2*a)\n",
        "    root2 = (-b - cmath.sqrt(discriminant)) / (2*a)\n",
        "    return root1, root2\n",
        "\n",
        "a = float(input(\"Enter coefficient a: \"))\n",
        "b = float(input(\"Enter coefficient b: \"))\n",
        "c = float(input(\"Enter coefficient c: \"))\n",
        "\n",
        "root1, root2 = find_roots(a, b, c)\n",
        "print(\"Roots:\", root1, root2)\n"
      ],
      "metadata": {
        "colab": {
          "base_uri": "https://localhost:8080/"
        },
        "id": "uYpkiwgkOhvt",
        "outputId": "b667deda-761c-44dd-859e-0ad338d681c8"
      },
      "execution_count": 31,
      "outputs": [
        {
          "output_type": "stream",
          "name": "stdout",
          "text": [
            "Enter coefficient a: 8\n",
            "Enter coefficient b: 9\n",
            "Enter coefficient c: 6\n",
            "Roots: (-0.5625+0.6584783595532961j) (-0.5625-0.6584783595532961j)\n"
          ]
        }
      ]
    },
    {
      "cell_type": "code",
      "source": [
        "#18. Python program to print the numbers from a given number n till 0 using recursion\n",
        "def print_numbers(n):\n",
        "    if n == 0:\n",
        "        return\n",
        "    print(n)\n",
        "    print_numbers(n - 1)\n",
        "\n",
        "n = int(input(\"Enter a number: \"))\n",
        "print(\"Numbers from\", n, \"to 0:\")\n",
        "print_numbers(n)\n"
      ],
      "metadata": {
        "colab": {
          "base_uri": "https://localhost:8080/"
        },
        "id": "uDdhai2LOwxV",
        "outputId": "ca37fce5-a0f8-486a-86d8-b7e609cf8893"
      },
      "execution_count": 32,
      "outputs": [
        {
          "output_type": "stream",
          "name": "stdout",
          "text": [
            "Enter a number: 89\n",
            "Numbers from 89 to 0:\n",
            "89\n",
            "88\n",
            "87\n",
            "86\n",
            "85\n",
            "84\n",
            "83\n",
            "82\n",
            "81\n",
            "80\n",
            "79\n",
            "78\n",
            "77\n",
            "76\n",
            "75\n",
            "74\n",
            "73\n",
            "72\n",
            "71\n",
            "70\n",
            "69\n",
            "68\n",
            "67\n",
            "66\n",
            "65\n",
            "64\n",
            "63\n",
            "62\n",
            "61\n",
            "60\n",
            "59\n",
            "58\n",
            "57\n",
            "56\n",
            "55\n",
            "54\n",
            "53\n",
            "52\n",
            "51\n",
            "50\n",
            "49\n",
            "48\n",
            "47\n",
            "46\n",
            "45\n",
            "44\n",
            "43\n",
            "42\n",
            "41\n",
            "40\n",
            "39\n",
            "38\n",
            "37\n",
            "36\n",
            "35\n",
            "34\n",
            "33\n",
            "32\n",
            "31\n",
            "30\n",
            "29\n",
            "28\n",
            "27\n",
            "26\n",
            "25\n",
            "24\n",
            "23\n",
            "22\n",
            "21\n",
            "20\n",
            "19\n",
            "18\n",
            "17\n",
            "16\n",
            "15\n",
            "14\n",
            "13\n",
            "12\n",
            "11\n",
            "10\n",
            "9\n",
            "8\n",
            "7\n",
            "6\n",
            "5\n",
            "4\n",
            "3\n",
            "2\n",
            "1\n"
          ]
        }
      ]
    },
    {
      "cell_type": "code",
      "source": [
        "#19.Python program to find the factorial of a number using recursion:\n",
        "def factorial(n):\n",
        "    if n == 0:\n",
        "        return 1\n",
        "    return n * factorial(n - 1)\n",
        "\n",
        "n = int(input(\"Enter a number: \"))\n",
        "fact = factorial(n)\n",
        "print(\"Factorial of\", n, \"is:\", fact)\n"
      ],
      "metadata": {
        "colab": {
          "base_uri": "https://localhost:8080/"
        },
        "id": "3uvebZcbPIBs",
        "outputId": "06ed7955-7f87-43fc-bf12-3a2b4e484382"
      },
      "execution_count": 33,
      "outputs": [
        {
          "output_type": "stream",
          "name": "stdout",
          "text": [
            "Enter a number: 65\n",
            "Factorial of 65 is: 8247650592082470666723170306785496252186258551345437492922123134388955774976000000000000000\n"
          ]
        }
      ]
    },
    {
      "cell_type": "code",
      "source": [
        "#20. Python program to display the sum of n numbers using a list\n",
        "n = int(input(\"Enter the count of numbers: \"))\n",
        "numbers = []\n",
        "\n",
        "for i in range(n):\n",
        "    number = int(input(\"Enter number {}: \".format(i+1)))\n",
        "    numbers.append(number)\n",
        "\n",
        "sum_of_numbers = sum(numbers)\n",
        "print(\"Sum of the numbers:\", sum_of_numbers)\n"
      ],
      "metadata": {
        "colab": {
          "base_uri": "https://localhost:8080/"
        },
        "id": "-L9wIi9sPSnr",
        "outputId": "544380e0-aab3-4245-f76c-f20d40db516d"
      },
      "execution_count": 35,
      "outputs": [
        {
          "output_type": "stream",
          "name": "stdout",
          "text": [
            "Enter the count of numbers: 2\n",
            "Enter number 1: 6\n",
            "Enter number 2: 8\n",
            "Sum of the numbers: 14\n"
          ]
        }
      ]
    },
    {
      "cell_type": "code",
      "source": [
        "#21. Python program to find the odd numbers in an array\n",
        "def find_odd_numbers(arr):\n",
        "    odd_numbers = []\n",
        "    for num in arr:\n",
        "        if num % 2 != 0:\n",
        "            odd_numbers.append(num)\n",
        "    return odd_numbers\n",
        "\n",
        "array = [1, 2, 3, 4, 5, 6, 7, 8, 9, 10]\n",
        "odd_numbers = find_odd_numbers(array)\n",
        "print(\"Odd numbers in the array:\", odd_numbers)\n"
      ],
      "metadata": {
        "colab": {
          "base_uri": "https://localhost:8080/"
        },
        "id": "TKtw5-0FPcFs",
        "outputId": "c58f505e-5aec-43c9-9b7d-26e059bd23d4"
      },
      "execution_count": 36,
      "outputs": [
        {
          "output_type": "stream",
          "name": "stdout",
          "text": [
            "Odd numbers in the array: [1, 3, 5, 7, 9]\n"
          ]
        }
      ]
    },
    {
      "cell_type": "code",
      "source": [
        "#22. Python program to find the largest number in a list without using built-in functions\n",
        "def find_largest_number(numbers):\n",
        "    largest = numbers[0]\n",
        "    for num in numbers:\n",
        "        if num > largest:\n",
        "            largest = num\n",
        "    return largest\n",
        "\n",
        "numbers = [12, 45, 67, 23, 89, 34, 56]\n",
        "largest_number = find_largest_number(numbers)\n",
        "print(\"The largest number in the list:\", largest_number)\n"
      ],
      "metadata": {
        "colab": {
          "base_uri": "https://localhost:8080/"
        },
        "id": "xtcbmGUpPuJb",
        "outputId": "3854c8ed-dd0f-40b8-e5e5-1fbe5721fac1"
      },
      "execution_count": 37,
      "outputs": [
        {
          "output_type": "stream",
          "name": "stdout",
          "text": [
            "The largest number in the list: 89\n"
          ]
        }
      ]
    },
    {
      "cell_type": "code",
      "source": [
        "#23.Python program to insert a number at any position in a list:\n",
        "def insert_number(numbers, position, number):\n",
        "    numbers.insert(position, number)\n",
        "    return numbers\n",
        "\n",
        "numbers = [10, 20, 30, 40, 50]\n",
        "position = int(input(\"Enter the position to insert: \"))\n",
        "number = int(input(\"Enter the number to insert: \"))\n",
        "\n",
        "updated_list = insert_number(numbers, position, number)\n",
        "print(\"Updated list:\", updated_list)\n"
      ],
      "metadata": {
        "colab": {
          "base_uri": "https://localhost:8080/"
        },
        "id": "g0b4Vsr9P1dq",
        "outputId": "86f4edc6-c8d0-4c9b-c52f-131cebef4865"
      },
      "execution_count": 38,
      "outputs": [
        {
          "output_type": "stream",
          "name": "stdout",
          "text": [
            "Enter the position to insert: 65\n",
            "Enter the number to insert: 55\n",
            "Updated list: [10, 20, 30, 40, 50, 55]\n"
          ]
        }
      ]
    },
    {
      "cell_type": "code",
      "source": [
        "#24. Python program to delete an element from a list by index\n",
        "def delete_element_by_index(lst, index):\n",
        "    if index < 0 or index >= len(lst):\n",
        "        print(\"Invalid index\")\n",
        "        return lst\n",
        "    del lst[index]\n",
        "    return lst\n",
        "\n",
        "numbers = [10, 20, 30, 40, 50]\n",
        "index = int(input(\"Enter the index of the element to delete: \"))\n",
        "\n",
        "updated_list = delete_element_by_index(numbers, index)\n",
        "print(\"Updated list:\", updated_list)\n"
      ],
      "metadata": {
        "colab": {
          "base_uri": "https://localhost:8080/"
        },
        "id": "4fGJk34-QBZs",
        "outputId": "21e0c967-ef8c-4c22-a939-80315c3c32ba"
      },
      "execution_count": 41,
      "outputs": [
        {
          "output_type": "stream",
          "name": "stdout",
          "text": [
            "Enter the index of the element to delete: 20\n",
            "Invalid index\n",
            "Updated list: [10, 20, 30, 40, 50]\n"
          ]
        }
      ]
    },
    {
      "cell_type": "code",
      "source": [
        "#25.Python program to check whether a string is palindrome or not:\n",
        "def is_palindrome(string):\n",
        "    reversed_string = string[::-1]\n",
        "    if string == reversed_string:\n",
        "        return True\n",
        "    else:\n",
        "        return False\n",
        "\n",
        "word = input(\"Enter a word: \")\n",
        "\n",
        "if is_palindrome(word):\n",
        "    print(\"The word is a palindrome.\")\n",
        "else:\n",
        "    print(\"The word is not a palindrome.\")\n"
      ],
      "metadata": {
        "colab": {
          "base_uri": "https://localhost:8080/"
        },
        "id": "psZuul_nQTFK",
        "outputId": "6481a1bc-5269-4b49-c4f8-e6004258aab1"
      },
      "execution_count": 42,
      "outputs": [
        {
          "output_type": "stream",
          "name": "stdout",
          "text": [
            "Enter a word: Shuva\n",
            "The word is not a palindrome.\n"
          ]
        }
      ]
    },
    {
      "cell_type": "code",
      "source": [
        "#26.Python program to implement matrix addition:\n",
        "def matrix_addition(matrix1, matrix2):\n",
        "    result = []\n",
        "    for i in range(len(matrix1)):\n",
        "        row = []\n",
        "        for j in range(len(matrix1[i])):\n",
        "            sum_element = matrix1[i][j] + matrix2[i][j]\n",
        "            row.append(sum_element)\n",
        "        result.append(row)\n",
        "    return result\n",
        "\n",
        "matrix1 = [[1, 2, 3], [4, 5, 6], [7, 8, 9]]\n",
        "matrix2 = [[10, 11, 12], [13, 14, 15], [16, 17, 18]]\n",
        "\n",
        "addition_result = matrix_addition(matrix1, matrix2)\n",
        "print(\"Matrix Addition Result:\")\n",
        "for row in addition_result:\n",
        "    print(row)\n"
      ],
      "metadata": {
        "colab": {
          "base_uri": "https://localhost:8080/"
        },
        "id": "-k9rhOyuQlKh",
        "outputId": "bad70e35-b911-4fed-9b23-1e84cce43242"
      },
      "execution_count": 43,
      "outputs": [
        {
          "output_type": "stream",
          "name": "stdout",
          "text": [
            "Matrix Addition Result:\n",
            "[11, 13, 15]\n",
            "[17, 19, 21]\n",
            "[23, 25, 27]\n"
          ]
        }
      ]
    },
    {
      "cell_type": "code",
      "source": [
        "#27.Python program to implement matrix multiplication:\n",
        "def matrix_multiplication(matrix1, matrix2):\n",
        "    result = []\n",
        "    for i in range(len(matrix1)):\n",
        "        row = []\n",
        "        for j in range(len(matrix2[0])):\n",
        "            sum_element = 0\n",
        "            for k in range(len(matrix2)):\n",
        "                sum_element += matrix1[i][k] * matrix2[k][j]\n",
        "            row.append\n"
      ],
      "metadata": {
        "id": "teG6qfsoQuwZ"
      },
      "execution_count": 45,
      "outputs": []
    },
    {
      "cell_type": "code",
      "source": [
        "#28. Python program to check leap year\n",
        "def is_leap_year(year):\n",
        "    if year % 4 == 0:\n",
        "        if year % 100 == 0:\n",
        "            if year % 400 == 0:\n",
        "                return True\n",
        "            else:\n",
        "                return False\n",
        "        else:\n",
        "            return True\n",
        "    else:\n",
        "        return False\n",
        "\n",
        "year = int(input(\"Enter a year: \"))\n",
        "\n",
        "if is_leap_year(year):\n",
        "    print(year, \"is a leap year.\")\n",
        "else:\n",
        "    print(year, \"is not a leap year.\")\n"
      ],
      "metadata": {
        "colab": {
          "base_uri": "https://localhost:8080/"
        },
        "id": "Z9qDhl93Q5CI",
        "outputId": "9f88f7f8-7fff-4802-e9b2-1431cb35dfe3"
      },
      "execution_count": 48,
      "outputs": [
        {
          "output_type": "stream",
          "name": "stdout",
          "text": [
            "Enter a year: 2023\n",
            "2023 is not a leap year.\n"
          ]
        }
      ]
    },
    {
      "cell_type": "code",
      "source": [
        "#29.Python program to find the Nth term in a Fibonacci series using recursion:\n",
        "def fibonacci(n):\n",
        "    if n <= 0:\n",
        "        return None\n",
        "    elif n == 1:\n",
        "        return 0\n",
        "    elif n == 2:\n",
        "        return 1\n",
        "    else:\n",
        "        return fibonacci(n - 1) + fibonacci(n - 2)\n",
        "\n",
        "n = int(input(\"Enter the value of n: \"))\n",
        "\n",
        "nth_term = fibonacci(n)\n",
        "if nth_term is not None:\n",
        "    print(\"The\", n, \"th term in the Fibonacci series is:\", nth_term)\n",
        "else:\n",
        "    print(\"Invalid value of n.\")\n"
      ],
      "metadata": {
        "colab": {
          "base_uri": "https://localhost:8080/"
        },
        "id": "129yx4-bRLEA",
        "outputId": "78938368-b1d0-42a4-f1c8-f5d58510951c"
      },
      "execution_count": 50,
      "outputs": [
        {
          "output_type": "stream",
          "name": "stdout",
          "text": [
            "Enter the value of n: 2\n",
            "The 2 th term in the Fibonacci series is: 1\n"
          ]
        }
      ]
    },
    {
      "cell_type": "code",
      "source": [
        "#30.Python program to implement a calculator to do basic operations:\n",
        "def add(num1, num2):\n",
        "    return num1 + num2\n",
        "\n",
        "def subtract(num1, num2):\n",
        "    return num1 - num2\n",
        "\n",
        "def multiply(num1, num2):\n",
        "    return num1 * num2\n",
        "\n",
        "def divide(num1, num2):\n",
        "    if num2 == 0:\n",
        "        return None\n",
        "    else:\n",
        "        return num1 / num2\n",
        "\n",
        "num1 = float(input(\"Enter the first number: \"))\n",
        "num2 = float(input(\"Enter the second number: \"))\n",
        "\n",
        "print(\"Select operation:\")\n",
        "print(\"1. Addition\")\n",
        "print(\"2. Subtraction\")\n",
        "print(\"3. Multiplication\")\n",
        "print(\"4. Division\")\n",
        "\n",
        "choice = int(input(\"Enter your choice (1-4): \"))\n",
        "\n",
        "result = None\n",
        "if choice == 1:\n",
        "    result = add(num1, num2)\n",
        "elif choice == 2:\n",
        "    result = subtract(num1, num2)\n",
        "elif choice == 3:\n",
        "    result = multiply(num1, num2)\n",
        "elif choice == 4:\n",
        "    result = divide(num1, num2)\n",
        "else:\n",
        "    print(\"Invalid choice.\")\n",
        "\n",
        "if result is not None:\n",
        "    print(\"Result:\", result)\n"
      ],
      "metadata": {
        "colab": {
          "base_uri": "https://localhost:8080/"
        },
        "id": "ufzDm1PPRadQ",
        "outputId": "d69551ed-9421-492a-a252-68d525c16031"
      },
      "execution_count": 51,
      "outputs": [
        {
          "output_type": "stream",
          "name": "stdout",
          "text": [
            "Enter the first number: 852\n",
            "Enter the second number: 658\n",
            "Select operation:\n",
            "1. Addition\n",
            "2. Subtraction\n",
            "3. Multiplication\n",
            "4. Division\n",
            "Enter your choice (1-4): 3\n",
            "Result: 560616.0\n"
          ]
        }
      ]
    },
    {
      "cell_type": "code",
      "source": [],
      "metadata": {
        "id": "RuB7HvQtRrem"
      },
      "execution_count": null,
      "outputs": []
    }
  ]
}